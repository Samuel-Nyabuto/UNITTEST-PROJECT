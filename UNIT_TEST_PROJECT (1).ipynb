{
  "nbformat": 4,
  "nbformat_minor": 0,
  "metadata": {
    "colab": {
      "provenance": []
    },
    "kernelspec": {
      "name": "python3",
      "display_name": "Python 3"
    },
    "language_info": {
      "name": "python"
    }
  },
  "cells": [
    {
      "cell_type": "code",
      "execution_count": null,
      "metadata": {
        "id": "HnZOF5Bekd9o"
      },
      "outputs": [],
      "source": [
        "import os\n",
        "import pandas as pd\n",
        "import unittest\n",
        "\n",
        "def data_extraction(file_path):\n",
        "    data = pd.read_csv(file_path)\n",
        "    return data\n",
        "\n",
        "\n",
        "def data_transformation(data):\n",
        "    data = data.drop_duplicates()\n",
        "    data['billing_amount'] = data['billing_amount'].str.replace('$', '').astype(float)\n",
        "    data['tax_amount'] = data['tax_amount'].astype(float)  # Convert tax_amount to float\n",
        "    data['total_charges'] = data['billing_amount'] + data['tax_amount']\n",
        "    return data\n",
        "\n",
        "\n",
        "def data_loading(data, output_file):\n",
        "    data.to_csv(output_file, index=False)\n",
        "\n",
        "class TestDataPipeline(unittest.TestCase):\n",
        "    def setUp(self):\n",
        "        self.input_file = 'billing_data.csv'\n",
        "        self.output_file = 'output.csv'\n",
        "        self.input_data = pd.DataFrame({\n",
        "                                        'customer_id': [1, 2, 3],\n",
        "                                        'billing_amount': ['$100', '$200', '$150'],\n",
        "                                        'tax_amount': [10, 20, 15]\n",
        "                                      })\n",
        "\n",
        "\n",
        "\n",
        "    def tearDown(self):\n",
        "        # Cleaning up the output file generated during tests\n",
        "        if os.path.exists(self.output_file):\n",
        "            os.remove(self.output_file)\n",
        "\n",
        "    def test_data_extraction(self):\n",
        "      # Test case 1: Verifying if data is extracted correctly from the CSV file\n",
        "      expected_result = self.input_data\n",
        "      result = data_extraction(self.input_file)\n",
        "      print(\"Expected Result:\")\n",
        "      print(expected_result)\n",
        "      print(\"Actual Result:\")\n",
        "      print(result)\n",
        "      self.assertTrue(result.equals(expected_result), \"Data extraction failed\")\n",
        "\n",
        "\n",
        "    def test_data_transformation(self):\n",
        "        # Test case 1: Verifying if data transformation is performed correctly\n",
        "        expected_result = pd.DataFrame({'customer_id': [1, 2, 3],\n",
        "                                        'billing_amount': [100.0, 200.0, 150.0],\n",
        "                                        'tax_amount': [10.0, 20.0, 15.0],\n",
        "                                        'total_charges': [110.0, 220.0, 165.0]})\n",
        "        result = data_transformation(self.input_data)\n",
        "        self.assertTrue(result.equals(expected_result), \"Data transformation failed\")\n",
        "\n",
        "    def test_data_loading(self):\n",
        "        # Test case 1: Verifying if data is loaded correctly into the CSV file\n",
        "        input_data = pd.DataFrame({'customer_id': [1, 2, 3],\n",
        "                                   'total_charges': [110.0, 220.0, 165.0]})\n",
        "        expected_result = input_data\n",
        "        data_loading(input_data, self.output_file)\n",
        "        result = pd.read_csv(self.output_file)\n",
        "        self.assertTrue(result.equals(expected_result), \"Data loading failed\")\n",
        "\n",
        "if __name__ == '__main__':\n",
        "    unittest.main()\n"
      ]
    },
    {
      "cell_type": "code",
      "source": [],
      "metadata": {
        "id": "4rFiLqLBtW1l"
      },
      "execution_count": null,
      "outputs": []
    },
    {
      "cell_type": "markdown",
      "source": [
        "**I runned the below code on cmd after downloading the above code saving it as \"unit_test_project.py\"**\n",
        "\n",
        "pip install pandas --trusted-host pypi.org --trusted-host files.pythonhosted.org\n",
        "\n",
        "cd C:\\Users\\YourUsername\\Downloads\n",
        "\n",
        "python unit_test_project.py\n"
      ],
      "metadata": {
        "id": "CUhVMU2Fvp9z"
      }
    },
    {
      "cell_type": "markdown",
      "source": [
        "**CMD SAMPLE ERROR AFTER TEST:**\n",
        "\n",
        "C:\\Users\\SNYABUTO\\Downloads>python unit_test_project.py\n",
        "Expected Result:\n",
        "   customer_id billing_amount  tax_amount\n",
        "0            1           $100          10\n",
        "1            2           $200          20\n",
        "2            3           $150          15\n",
        "Actual Result:\n",
        "   customer_id billing_amount  tax_amount\n",
        "0            1           $100          10\n",
        "1            2           $200          20\n",
        "2            3           $300          30\n",
        "3            4           $400          40\n",
        "4            5           $500          50\n",
        "F..\n",
        "======================================================================\n",
        "FAIL: test_data_extraction (__main__.TestDataPipeline)\n",
        "----------------------------------------------------------------------\n",
        "Traceback (most recent call last):\n",
        "  File \"C:\\Users\\SNYABUTO\\Downloads\\unit_test_project.py\", line 55, in test_data_extraction\n",
        "    self.assertTrue(result.equals(expected_result), \"Data extraction failed\")\n",
        "AssertionError: False is not true : Data extraction failed\n",
        "\n",
        "----------------------------------------------------------------------\n",
        "Ran 3 tests in 0.022s\n",
        "\n",
        "FAILED (failures=1)\n",
        "\n",
        "C:\\Users\\SNYABUTO\\Downloads>"
      ],
      "metadata": {
        "id": "eJbgFvIxv-Tq"
      }
    }
  ]
}